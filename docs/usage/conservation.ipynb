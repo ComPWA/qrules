{
 "cells": [
  {
   "cell_type": "code",
   "execution_count": null,
   "metadata": {
    "hideCode": true,
    "hideOutput": true,
    "hidePrompt": true,
    "jupyter": {
     "source_hidden": true
    },
    "slideshow": {
     "slide_type": "skip"
    },
    "tags": [
     "remove-cell"
    ]
   },
   "outputs": [],
   "source": [
    "%%capture\n",
    "%config Completer.use_jedi = False\n",
    "%config InlineBackend.figure_formats = ['svg']\n",
    "import os\n",
    "\n",
    "STATIC_WEB_PAGE = {\"EXECUTE_NB\", \"READTHEDOCS\"}.intersection(os.environ)\n",
    "\n",
    "# Install on Google Colab\n",
    "import subprocess\n",
    "import sys\n",
    "\n",
    "from IPython import get_ipython\n",
    "\n",
    "install_packages = \"google.colab\" in str(get_ipython())\n",
    "if install_packages:\n",
    "    for package in [\"qrules[doc]\", \"graphviz\"]:\n",
    "        subprocess.check_call(\n",
    "            [sys.executable, \"-m\", \"pip\", \"install\", package]\n",
    "        )"
   ]
  },
  {
   "cell_type": "markdown",
   "metadata": {},
   "source": [
    "# Conservation rules"
   ]
  },
  {
   "cell_type": "code",
   "execution_count": null,
   "metadata": {
    "jupyter": {
     "source_hidden": true
    },
    "tags": [
     "hide-cell"
    ]
   },
   "outputs": [],
   "source": [
    "import graphviz\n",
    "\n",
    "import qrules\n",
    "from qrules.conservation_rules import (\n",
    "    SpinEdgeInput,\n",
    "    SpinNodeInput,\n",
    "    spin_conservation,\n",
    ")"
   ]
  },
  {
   "cell_type": "markdown",
   "metadata": {},
   "source": [
    "## Required functions"
   ]
  },
  {
   "cell_type": "code",
   "execution_count": null,
   "metadata": {},
   "outputs": [],
   "source": [
    "help(SpinEdgeInput.__init__)"
   ]
  },
  {
   "cell_type": "code",
   "execution_count": null,
   "metadata": {},
   "outputs": [],
   "source": [
    "help(SpinNodeInput.__init__)"
   ]
  },
  {
   "cell_type": "code",
   "execution_count": null,
   "metadata": {},
   "outputs": [],
   "source": [
    "help(spin_conservation)"
   ]
  },
  {
   "cell_type": "markdown",
   "metadata": {},
   "source": [
    "## Spin conservation"
   ]
  },
  {
   "cell_type": "markdown",
   "metadata": {},
   "source": [
    "See {func}`.spin_conservation` and [`tests/unit/conservation_rules/test_spin.py`](https://github.com/ComPWA/qrules/blob/ffa91f5308f59bd729b25d1584827ac61a56d2de/tests/unit/conservation_rules/test_spin.py)."
   ]
  },
  {
   "cell_type": "markdown",
   "metadata": {
    "tags": []
   },
   "source": [
    "### No spin and angular momentum"
   ]
  },
  {
   "cell_type": "code",
   "execution_count": null,
   "metadata": {},
   "outputs": [],
   "source": [
    "spin_conservation(\n",
    "    ingoing_spins=[\n",
    "        SpinEdgeInput(0, 0),\n",
    "    ],\n",
    "    outgoing_spins=[\n",
    "        SpinEdgeInput(0, 0),\n",
    "        SpinEdgeInput(0, 0),\n",
    "    ],\n",
    "    interaction_qns=SpinNodeInput(\n",
    "        l_magnitude=0,  # false if 1\n",
    "        l_projection=0,\n",
    "        s_magnitude=0,\n",
    "        s_projection=0,\n",
    "    ),\n",
    ")"
   ]
  },
  {
   "cell_type": "markdown",
   "metadata": {},
   "source": [
    "### Non-zero example"
   ]
  },
  {
   "cell_type": "code",
   "execution_count": null,
   "metadata": {},
   "outputs": [],
   "source": [
    "spin_conservation(\n",
    "    ingoing_spins=[\n",
    "        SpinEdgeInput(1, 0),\n",
    "    ],\n",
    "    outgoing_spins=[\n",
    "        SpinEdgeInput(1, +1),\n",
    "        SpinEdgeInput(1, -1),\n",
    "    ],\n",
    "    interaction_qns=SpinNodeInput(\n",
    "        l_magnitude=1,\n",
    "        l_projection=0,\n",
    "        s_magnitude=2,\n",
    "        s_projection=0,\n",
    "    ),\n",
    ")"
   ]
  },
  {
   "cell_type": "markdown",
   "metadata": {},
   "source": [
    "## Example with a `StateTransition`"
   ]
  },
  {
   "cell_type": "markdown",
   "metadata": {},
   "source": [
    "First, generate some {class}`.StateTransition`s with {func}`.generate_transitions`, then select one of them:"
   ]
  },
  {
   "cell_type": "code",
   "execution_count": null,
   "metadata": {},
   "outputs": [],
   "source": [
    "reaction = qrules.generate_transitions(\n",
    "    initial_state=\"J/psi(1S)\",\n",
    "    final_state=[\"K0\", \"Sigma+\", \"p~\"],\n",
    "    allowed_interaction_types=\"strong\",\n",
    "    formalism=\"canonical\",  # \"canonical-helicity\"\n",
    ")\n",
    "transition = reaction.transitions[0]"
   ]
  },
  {
   "cell_type": "markdown",
   "metadata": {},
   "source": [
    "Next, have a look at the edge and node properties, and use the underlying {class}`.Topology` to extract one of the node {class}`.InteractionProperties` with the surrounding states (these are {obj}`tuple`s of a {class}`.Particle` and a {obj}`float` spin projection)."
   ]
  },
  {
   "cell_type": "code",
   "execution_count": null,
   "metadata": {
    "jupyter": {
     "source_hidden": true
    },
    "tags": [
     "hide-input"
    ]
   },
   "outputs": [],
   "source": [
    "dot = qrules.io.asdot(transition, render_node=True)\n",
    "display(graphviz.Source(dot))\n",
    "\n",
    "dot = qrules.io.asdot(\n",
    "    transition.topology,\n",
    "    render_node=True,\n",
    "    render_resonance_id=True,\n",
    "    render_initial_state_id=True,\n",
    ")\n",
    "display(graphviz.Source(dot))"
   ]
  },
  {
   "cell_type": "markdown",
   "metadata": {},
   "source": [
    "We select node $(0)$, which has incoming state ID $-1$ and outgoing state IDs $0$ and $3$:"
   ]
  },
  {
   "cell_type": "code",
   "execution_count": null,
   "metadata": {},
   "outputs": [],
   "source": [
    "topology = transition.topology\n",
    "node_id = 0\n",
    "in_id, *_ = topology.get_edge_ids_ingoing_to_node(node_id)\n",
    "out_id1, out_id2, *_ = topology.get_edge_ids_outgoing_from_node(node_id)\n",
    "\n",
    "incoming_state = transition.states[in_id]\n",
    "outgoing_state1 = transition.states[out_id1]\n",
    "outgoing_state2 = transition.states[out_id2]\n",
    "interaction = transition.interactions[node_id]\n",
    "\n",
    "spin_conservation(\n",
    "    ingoing_spins=[\n",
    "        SpinEdgeInput(\n",
    "            spin_magnitude=incoming_state.particle.spin,\n",
    "            spin_projection=incoming_state.spin_projection,\n",
    "        )\n",
    "    ],\n",
    "    outgoing_spins=[\n",
    "        SpinEdgeInput(\n",
    "            spin_magnitude=outgoing_state1.particle.spin,\n",
    "            spin_projection=outgoing_state1.spin_projection,\n",
    "        ),\n",
    "        SpinEdgeInput(\n",
    "            spin_magnitude=outgoing_state2.particle.spin,\n",
    "            spin_projection=outgoing_state2.spin_projection,\n",
    "        ),\n",
    "    ],\n",
    "    interaction_qns=interaction,\n",
    ")"
   ]
  },
  {
   "cell_type": "markdown",
   "metadata": {},
   "source": [
    "**<span style=\"color:red\">This should be `True`, no?</span>**"
   ]
  }
 ],
 "metadata": {
  "kernelspec": {
   "display_name": "Python 3 (ipykernel)",
   "language": "python",
   "name": "python3"
  },
  "language_info": {
   "codemirror_mode": {
    "name": "ipython",
    "version": 3
   },
   "file_extension": ".py",
   "mimetype": "text/x-python",
   "name": "python",
   "nbconvert_exporter": "python",
   "pygments_lexer": "ipython3",
   "version": "3.8.10"
  }
 },
 "nbformat": 4,
 "nbformat_minor": 4
}
