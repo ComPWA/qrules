{
 "cells": [
  {
   "cell_type": "code",
   "execution_count": null,
   "metadata": {
    "hideCode": true,
    "hideOutput": true,
    "hidePrompt": true,
    "jupyter": {
     "source_hidden": true
    },
    "slideshow": {
     "slide_type": "skip"
    },
    "tags": [
     "remove-cell"
    ]
   },
   "outputs": [],
   "source": [
    "%%capture\n",
    "%config Completer.use_jedi = False\n",
    "%config InlineBackend.figure_formats = ['svg']\n",
    "import os\n",
    "\n",
    "STATIC_WEB_PAGE = {\"EXECUTE_NB\", \"READTHEDOCS\"}.intersection(os.environ)\n",
    "\n",
    "# Install on Google Colab\n",
    "import subprocess\n",
    "import sys\n",
    "\n",
    "from IPython import get_ipython\n",
    "\n",
    "install_packages = \"google.colab\" in str(get_ipython())\n",
    "if install_packages:\n",
    "    for package in [\"qrules[doc]\", \"graphviz\"]:\n",
    "        subprocess.check_call(\n",
    "            [sys.executable, \"-m\", \"pip\", \"install\", package]\n",
    "        )"
   ]
  },
  {
   "cell_type": "markdown",
   "metadata": {},
   "source": [
    "# Calculation of LS couplings"
   ]
  },
  {
   "cell_type": "markdown",
   "metadata": {},
   "source": [
    "We want to take a look how calculate the possible LS combinations for a certain decay.\n",
    "For this we use the decay $J/\\psi\\to\\bar\\Sigma(1580)^-\\Sigma^+$ where the $\\bar\\Sigma(1580)^-$ decays into $\\bar p$ and $K^0$.\n",
    "Both these decays are strong interactions."
   ]
  },
  {
   "cell_type": "markdown",
   "metadata": {},
   "source": [
    "## $J/\\psi\\to\\bar\\Sigma(1580)^-\\Sigma^+$"
   ]
  },
  {
   "cell_type": "markdown",
   "metadata": {},
   "source": [
    "The first transition $J/\\psi\\to\\bar\\Sigma(1580)^-\\Sigma^+$ can be expressed in quantum numbers as $1^-\\to\\frac{3}{2}^+\\frac{1}{2}^+$.\n",
    "By coupling the spins of the decay products we can determine the spin of the transition.\n",
    "\n",
    "$$\n",
    "\\begin{eqnarray}\n",
    "|s_{\\bar\\Sigma(1580)^-} - s_{\\Sigma^+}| & \\le S & \\le |s_{\\bar\\Sigma(1580)^-} + s_{\\Sigma^+}|\\\\\n",
    "|\\frac{3}{2}-\\frac{1}{2}| & \\le S & \\le |\\frac{3}{2} + \\frac{1}{2}|\\\\\n",
    "1 & \\le S & \\le 2\n",
    "\\end{eqnarray}\n",
    "$$\n",
    "\n",
    "Since $\\Delta S=1$ we have 2 possible solutions for $S$, 1 and 2."
   ]
  },
  {
   "cell_type": "markdown",
   "metadata": {},
   "source": [
    "Next step is to couple angular momentum and the spin to the total momentum.\n",
    "$$\n",
    "\\begin{eqnarray}\n",
    "|L-S| & \\le J & \\le |L+S| \\\\\n",
    "|L-1| & \\le 1 & \\le |L+1| \\\\\n",
    "      & \\text{or} \\\\\n",
    "|L-2| & \\le 1 & \\le|L+2|\n",
    "\\end{eqnarray}\n",
    "$$\n",
    "\n",
    "$L$ can be an integer multiple of 1, e.g. 1,2,3....\n",
    "Now we have to check which of this $L$'s solves this conditions.\n",
    "For $S=1$ $L$ can be 1 or 2.\n",
    "For $S=2$ the results are 1,2 and 3.\n",
    "So in total we have 6 LS combinations.\n",
    "$$(L,S)=(0,1),(1,1),(2,1),(1,2),(2,2),(3,2)$$"
   ]
  },
  {
   "cell_type": "markdown",
   "metadata": {},
   "source": [
    "But this decays by the strong force.\n",
    "This means parity has to be conserved and not all of this transitions are possible.\n",
    "\\begin{align*}\n",
    "\\eta_{J/\\psi}=&\\eta_{\\bar\\Sigma(1580)^-}\\cdot\\eta_{\\Sigma^+}\\cdot(-1)^L\\\\\n",
    "(-1)=&(+1)\\cdot(-1)\\cdot(-1)^L\\\\\n",
    "(+1)=&(-1)^{L}\n",
    "\\end{align*}\n",
    "From this we can easily see that only odd $L$'s are possible.\n",
    "$$(L,S)=(1,1),(1,2),(3,2)$$"
   ]
  },
  {
   "cell_type": "markdown",
   "metadata": {},
   "source": [
    "## $\\bar \\Sigma(1580)^-\\to \\bar pK^0$"
   ]
  },
  {
   "cell_type": "markdown",
   "metadata": {},
   "source": [
    "But this only the first part of the decay.\n",
    "The $\\bar\\Sigma(1580)^-$ decays further into $\\bar p$ and $K^0$.\n",
    "In quantum numbers this can be expressed as $\\frac{3}{2}^+\\to\\frac{1}{2}^-0^-$."
   ]
  },
  {
   "cell_type": "markdown",
   "metadata": {},
   "source": [
    "Again let's start with by coupling the spins of the child particles.\n",
    "$$\n",
    "\\begin{eqnarray}\n",
    "|s_{\\bar p} - s_{K^0}| & \\le S  & \\le |s_{\\bar p} + s_{K^0}|\\\\\n",
    "|\\frac{1}{2}-0| & \\le S & \\le |\\frac{1}{2} + 0|\\\\\n",
    "S=\\frac{1}{2}\n",
    "\\end{eqnarray}\n",
    "$$\n",
    "This time only one spin is possible."
   ]
  },
  {
   "cell_type": "markdown",
   "metadata": {},
   "source": [
    "Next is to couple the angular momentum and the spin again.\n",
    "\n",
    "$$\n",
    "\\begin{eqnarray}\n",
    "|L-S| & \\le J & \\le|L+S|\\\\\n",
    "|L-\\frac{1}{2}| & \\le \\frac{3}{2} & \\le|L+\\frac{1}{2}|\n",
    "\\end{eqnarray}\n",
    "$$\n",
    "\n",
    "Like before the way is to check which integer solves this condition.\n",
    "Here 2 $LS$ combinations are possible:\n",
    "\n",
    "$$\n",
    "(L,S)=(1,\\frac{1}{2}),(2,\\frac{1}{2})\n",
    "$$"
   ]
  },
  {
   "cell_type": "markdown",
   "metadata": {},
   "source": [
    "This again is a strong interaction which means we have to check for parity conservation.\n",
    "\n",
    "$$\n",
    "\\begin{align*}\n",
    "    \\eta_{\\bar \\Sigma(1580)^-}=&\\eta_{\\bar p}\\cdot\\eta_{K^0}\\cdot(-1)^L\\\\\n",
    "    (+1)=&(-1)\\cdot(-1)\\cdot(-1)^L\\\\\n",
    "    (+1)=&(-1)^L\n",
    "\\end{align*}\n",
    "$$\n",
    "\n",
    "Here it is clear only even $L$'s are allowed.\n",
    "Which means one $LS$ combination is possible.\n",
    "\n",
    "$$\n",
    "(L,S)=(2,\\frac{1}{2})\n",
    "$$"
   ]
  }
 ],
 "metadata": {
  "kernelspec": {
   "display_name": "Python 3 (ipykernel)",
   "language": "python",
   "name": "python3"
  }
 },
 "nbformat": 4,
 "nbformat_minor": 4
}
