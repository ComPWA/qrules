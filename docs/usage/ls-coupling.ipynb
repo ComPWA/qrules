{
 "cells": [
  {
   "cell_type": "code",
   "execution_count": null,
   "metadata": {
    "hideCode": true,
    "hideOutput": true,
    "hidePrompt": true,
    "jupyter": {
     "source_hidden": true
    },
    "slideshow": {
     "slide_type": "skip"
    },
    "tags": [
     "remove-cell"
    ]
   },
   "outputs": [],
   "source": [
    "%%capture\n",
    "%config Completer.use_jedi = False\n",
    "%config InlineBackend.figure_formats = ['svg']\n",
    "import os\n",
    "\n",
    "STATIC_WEB_PAGE = {\"EXECUTE_NB\", \"READTHEDOCS\"}.intersection(os.environ)\n",
    "\n",
    "# Install on Google Colab\n",
    "import subprocess\n",
    "import sys\n",
    "\n",
    "from IPython import get_ipython\n",
    "\n",
    "install_packages = \"google.colab\" in str(get_ipython())\n",
    "if install_packages:\n",
    "    for package in [\"qrules[doc]\", \"graphviz\"]:\n",
    "        subprocess.check_call(\n",
    "            [sys.executable, \"-m\", \"pip\", \"install\", package]\n",
    "        )"
   ]
  },
  {
   "cell_type": "markdown",
   "metadata": {},
   "source": [
    "# LS-couplings"
   ]
  },
  {
   "cell_type": "markdown",
   "metadata": {},
   "source": [
    "Thee {func}`.spin_conservation` rule is one of the more complicated checks in the {mod}`.conservation_rules` module. It provides an implementation of the $LS$-couplings, which is a procedure to determine which values of which values for **total angular momentum $L$** and **coupled spin $S$** are allowed in an interaction node. In this notebook, we illustrate this procedure with the following decay chain as an example:\n",
    "\n",
    "$$\n",
    "J/\\psi \\to \\bar\\Sigma(1580)^ -\\Sigma^+ , \\quad \\bar\\Sigma(1580)^- \\rightarrow \\bar p K^0.\n",
    "$$\n",
    "\n",
    "In this decay chain, there are two decay nodes that we investigate separately. In addition, both decays are mediated interactions by the strong force, which means there is also **parity conservation**."
   ]
  },
  {
   "cell_type": "markdown",
   "metadata": {},
   "source": [
    "## Procedure"
   ]
  },
  {
   "cell_type": "markdown",
   "metadata": {},
   "source": [
    "Imagine we have a two-body decay of $0\\rightarrow 1+2$. We denote the `.Spin.magnitude` of each particle $i$ as $s_i$ and their `~.Particle.parity` as $\\eta_i$. The values for $L$ and $S$ can now be determined as follows:\n",
    "\n",
    "1. Determine all values for $S$ that satisfy $\\left| s_1-s_2 \\right| \\le S \\le s_1+s_2$. The difference between each value for $S$ has to integer, so $S = \\left| s_1-s_2 \\right|, \\left| s_1-s_2 \\right|+1, \\dots, s_1+s_2$.\n",
    "2. Determine all values for $L$ that satisfy $\\left| L-S \\right| \\le s_0 \\le L+S$, with $L$ a non-negative integer.\n",
    "3. If there is parity conservation, $L$ has to satisfy an additional constraint: $\\eta_0 = \\eta_1\\cdot\\eta_2\\cdot(-1)^L$."
   ]
  },
  {
   "cell_type": "markdown",
   "metadata": {},
   "source": [
    "## $J/\\psi\\to\\bar\\Sigma(1580)^-\\Sigma^+$"
   ]
  },
  {
   "cell_type": "markdown",
   "metadata": {},
   "source": [
    "The first transition, $J/\\psi\\to\\bar\\Sigma(1580)^-\\Sigma^+$, can be expressed as quantum numbers as $1^-\\to\\frac{3}{2}^+\\frac{1}{2}^+$.\n",
    "By coupling the spins of the decay products, we can determine the spin of the transition.\n",
    "\n",
    "$$\n",
    "\\begin{eqnarray}\n",
    "\\left|s_{\\bar\\Sigma(1580)^-} - s_{\\Sigma^+}\\right| & \\le S & \\le \\left|s_{\\bar\\Sigma(1580)^-} + s_{\\Sigma^+}\\right| \\\\\n",
    "\\left|\\frac{3}{2}-\\frac{1}{2}\\right| & \\le S & \\le \\left|\\frac{3}{2} + \\frac{1}{2}\\right| \\\\\n",
    "1 & \\le S & \\le 2\n",
    "\\end{eqnarray}\n",
    "$$\n",
    "\n",
    "Since $\\Delta S=1$, we have 2 possible solutions: $S=1$ and $S=2$."
   ]
  },
  {
   "cell_type": "markdown",
   "metadata": {},
   "source": [
    "Next step is to couple angular momentum and the spin to the total momentum.\n",
    "\n",
    "$$\n",
    "\\begin{eqnarray}\n",
    "|L-S| & \\le J & \\le |L+S| \\\\\n",
    "|L-1| & \\le 1 & \\le |L+1| \\\\\n",
    "      & \\text{or} \\\\\n",
    "|L-2| & \\le 1 & \\le|L+2|\n",
    "\\end{eqnarray}\n",
    "$$\n",
    "\n",
    "$L$ can only be a positive integer, e.g. $1,2,3,\\dots$. So we now have to check which allowed values for $L$ solves these conditions.\n",
    "- For $S=1$, $L$ can be 1 or 2.\n",
    "- For $S=2$, $L$ can are 1, 2 or 3.\n",
    "\n",
    "So in total we have 6 $LS$-combinations:\n",
    "\n",
    "$$\n",
    "(L,S) = (0,1), (1,1), (2,1), (1,2), (2,2), (3,2)\n",
    "$$"
   ]
  },
  {
   "cell_type": "markdown",
   "metadata": {},
   "source": [
    "This decay however goes via the strong force. This means that **parity has to be conserved** and that not all of these transitions are allowed.\n",
    "\n",
    "$$\n",
    "\\begin{eqnarray}\n",
    "\\eta_{J/\\psi} & =&\\eta_{\\bar\\Sigma(1580)^-}\\cdot\\eta_{\\Sigma^+}\\cdot(-1)^L \\\\\n",
    "(-1) & = & (+1)\\cdot(-1)\\cdot(-1)^L \\\\\n",
    "(+1) & = & (-1)^{L}\n",
    "\\end{eqnarray}\n",
    "$$\n",
    "\n",
    "From this, we can easily see that only odd $L$ values are possible:\n",
    "\n",
    "$$\n",
    "(L,S)=(1,1),(1,2),(3,2).\n",
    "$$"
   ]
  },
  {
   "cell_type": "markdown",
   "metadata": {},
   "source": [
    "## $\\bar \\Sigma(1580)^-\\to \\bar pK^0$"
   ]
  },
  {
   "cell_type": "markdown",
   "metadata": {},
   "source": [
    "But this only the first part of the decay.\n",
    "The $\\bar\\Sigma(1580)^-$ decays further into $\\bar p$ and $K^0$.\n",
    "In quantum numbers this can be expressed as $\\frac{3}{2}^+\\to\\frac{1}{2}^-0^-$."
   ]
  },
  {
   "cell_type": "markdown",
   "metadata": {},
   "source": [
    "Again, let's start by coupling the spins of the decay products.\n",
    "\n",
    "$$\n",
    "\\begin{eqnarray}\n",
    "|s_{\\bar p} - s_{K^0}| & \\le S  & \\le \\left|s_{\\bar p} + s_{K^0}\\right| \\\\\n",
    "\\left|\\frac{1}{2}-0\\right| & \\le S & \\le \\left|\\frac{1}{2} + 0\\right| \\\\\n",
    "& S & = \\frac{1}{2}\n",
    "\\end{eqnarray}\n",
    "$$\n",
    "\n",
    "This time, only one spin is possible."
   ]
  },
  {
   "cell_type": "markdown",
   "metadata": {},
   "source": [
    "Next is to couple the angular momentum and the spin again.\n",
    "\n",
    "$$\n",
    "\\begin{eqnarray}\n",
    "|L-S| & \\le J & \\le|L+S|\\\\\n",
    "\\left|L-\\frac{1}{2}\\right| & \\le \\frac{3}{2} & \\le \\left|L+\\frac{1}{2}\\right|\n",
    "\\end{eqnarray}\n",
    "$$\n",
    "\n",
    "Like before, the way is to check values for $L$ and $L$ satisfy this condition. By now, only two $LS$-combinations are possible:\n",
    "\n",
    "$$\n",
    "(L,S)=\\left(1,\\frac{1}{2}\\right), \\left(2,\\frac{1}{2}\\right)\n",
    "$$"
   ]
  },
  {
   "cell_type": "markdown",
   "metadata": {},
   "source": [
    "This again is a strong interaction, which means we have to check for parity conservation.\n",
    "\n",
    "$$\n",
    "\\begin{eqnarray}\n",
    "    \\eta_{\\bar \\Sigma(1580)^-} & = & \\eta_{\\bar p}\\cdot\\eta_{K^0}\\cdot(-1)^L\\\\\n",
    "    (+1) & = & (-1)\\cdot(-1)\\cdot(-1)^L\\\\\n",
    "    (+1) & = & (-1)^L\n",
    "\\end{eqnarray}\n",
    "$$\n",
    "\n",
    "Here, it is clear that only even $L$'s are allowed. This means that only one $LS$ combination is possible:\n",
    "\n",
    "$$\n",
    "(L,S)=\\left(2,\\frac{1}{2}\\right)\n",
    "$$"
   ]
  }
 ],
 "metadata": {
  "kernelspec": {
   "display_name": "Python 3 (ipykernel)",
   "language": "python",
   "name": "python3"
  }
 },
 "nbformat": 4,
 "nbformat_minor": 4
}
